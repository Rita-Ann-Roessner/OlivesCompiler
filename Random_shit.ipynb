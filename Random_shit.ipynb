{
 "cells": [
  {
   "cell_type": "markdown",
   "id": "0dcdd9d0",
   "metadata": {},
   "source": [
    "# Random shit"
   ]
  },
  {
   "cell_type": "code",
   "execution_count": 6,
   "id": "7bf94c09",
   "metadata": {},
   "outputs": [],
   "source": [
    "import numpy as np\n",
    "import pandas as pd"
   ]
  },
  {
   "cell_type": "code",
   "execution_count": 16,
   "id": "5360f57a",
   "metadata": {},
   "outputs": [],
   "source": [
    "arr = np.load('user/data/ref_data/target_hist_1D.npy')\n",
    "\n",
    "grid_min = [-0.016]  # Min values for the 2D grid\n",
    "grid_max = [0.016]  # Max values for the 2D grid\n",
    "num_points = [99]  # Number of points in the grid (X and Y dimensions)\n",
    "\n",
    "x_grid = np.linspace(grid_min[0], grid_max[0], num_points[0]) \n",
    "arr = np.stack((x_grid, arr), axis=1)\n",
    "np.save('user/data/ref_data/target.npy', arr)"
   ]
  },
  {
   "cell_type": "code",
   "execution_count": null,
   "id": "931248e5",
   "metadata": {},
   "outputs": [],
   "source": []
  }
 ],
 "metadata": {
  "kernelspec": {
   "display_name": "phd",
   "language": "python",
   "name": "phd"
  },
  "language_info": {
   "codemirror_mode": {
    "name": "ipython",
    "version": 3
   },
   "file_extension": ".py",
   "mimetype": "text/x-python",
   "name": "python",
   "nbconvert_exporter": "python",
   "pygments_lexer": "ipython3",
   "version": "3.10.14"
  }
 },
 "nbformat": 4,
 "nbformat_minor": 5
}
